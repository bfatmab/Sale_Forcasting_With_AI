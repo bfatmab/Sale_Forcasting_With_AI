{
  "nbformat": 4,
  "nbformat_minor": 0,
  "metadata": {
    "colab": {
      "provenance": [],
      "authorship_tag": "ABX9TyNfJMLgxHZ07zgGIUuX82ig",
      "include_colab_link": true
    },
    "kernelspec": {
      "name": "python3",
      "display_name": "Python 3"
    },
    "language_info": {
      "name": "python"
    }
  },
  "cells": [
    {
      "cell_type": "markdown",
      "metadata": {
        "id": "view-in-github",
        "colab_type": "text"
      },
      "source": [
        "<a href=\"https://colab.research.google.com/github/bfatmab/Sale_Forcasting_With_AI/blob/main/Sale_Forcasting_Final_Project.ipynb\" target=\"_parent\"><img src=\"https://colab.research.google.com/assets/colab-badge.svg\" alt=\"Open In Colab\"/></a>"
      ]
    },
    {
      "cell_type": "code",
      "source": [
        "import os"
      ],
      "metadata": {
        "id": "4FklRrhcJgyC"
      },
      "execution_count": 75,
      "outputs": []
    },
    {
      "cell_type": "code",
      "source": [
        "import pandas as pd\n",
        "import numpy as np\n",
        "import matplotlib.pyplot as plt\n",
        "from xgboost import XGBRegressor\n",
        "from sklearn.ensemble import RandomForestRegressor\n",
        "from sklearn.linear_model import LinearRegression\n",
        "from sklearn.preprocessing import MinMaxScaler\n",
        "from sklearn.metrics import mean_squared_error,mean_absolute_error,r2_score\n",
        "from tensorflow.keras.models import Sequential\n",
        "from tensorflow.keras.layers import Dense ,LSTM\n",
        "from tensorflow.keras.callbacks import EarlyStopping,ModelCheckpoint\n",
        "# Adım 1: Veri Setini Yükleme\n",
        "data = pd.read_csv('amazon.csv')"
      ],
      "metadata": {
        "id": "00SZLV0Due9I"
      },
      "execution_count": null,
      "outputs": []
    },
    {
      "cell_type": "code",
      "source": [
        "# İlk 10 veriyi getirir\n",
        "data.head(10)\n"
      ],
      "metadata": {
        "id": "m8DwlQbjvhMx"
      },
      "execution_count": null,
      "outputs": []
    },
    {
      "cell_type": "code",
      "source": [
        "# Satır ve sütun sayısnı verir\n",
        "data.shape"
      ],
      "metadata": {
        "id": "UKAYz7ghyN8o"
      },
      "execution_count": null,
      "outputs": []
    },
    {
      "cell_type": "code",
      "source": [
        "sale_channel='Sales Channel'\n",
        "ship_service_level='ship-service-level'\n",
        "courier_status='Courier Status'\n",
        "un='Unnamed: 22'\n",
        "\n",
        "columns=['index','Status','Fulfilment',ship_service_level,'Style','SKU','Size','ASIN',courier_status,'Qty','currency','ship-city','ship-state','ship-state','ship-postal-code','ship-country','promotion-ids','B2B','fulfilled-by',un]\n",
        "data=data.drop(columns,axis=1)\n",
        "data.info()"
      ],
      "metadata": {
        "id": "bgxSDraFO3zj"
      },
      "execution_count": null,
      "outputs": []
    },
    {
      "cell_type": "markdown",
      "source": [
        "Date kolonunun tipini değiştirdik"
      ],
      "metadata": {
        "id": "AV2qrC58QDtL"
      }
    },
    {
      "cell_type": "code",
      "source": [
        "data['Date'] = pd.to_datetime(data['Date'])"
      ],
      "metadata": {
        "id": "m6qZh5bC8rTu"
      },
      "execution_count": 86,
      "outputs": []
    },
    {
      "cell_type": "markdown",
      "source": [
        "bir veri çerçevesindeki tarih sütununu aylık döneme çevirerek ve bu aylara göre satışları toplamlayarak aylık satışları hesaplar."
      ],
      "metadata": {
        "id": "m-Xl96lCOMMK"
      }
    },
    {
      "cell_type": "code",
      "source": [
        "data['Date']= data['Date'].dt.to_period(\"M\") \n",
        "monthly_sales=data.groupby('Date').sum().reset_index()"
      ],
      "metadata": {
        "id": "kTQ-bhInOIg6"
      },
      "execution_count": null,
      "outputs": []
    },
    {
      "cell_type": "code",
      "source": [
        "monthly_sales['Date']=monthly_sales['Date'].dt.to_timestamp()"
      ],
      "metadata": {
        "id": "KuSJ59wWJwHZ"
      },
      "execution_count": 88,
      "outputs": []
    },
    {
      "cell_type": "code",
      "source": [
        "monthly_sales.head(10)"
      ],
      "metadata": {
        "id": "qChfzavDQQJE"
      },
      "execution_count": null,
      "outputs": []
    },
    {
      "cell_type": "code",
      "source": [
        " plt.figure(figsize=(5,3))\n",
        " plt.plot(monthly_sales['Date'],monthly_sales['Amount'])\n",
        " plt.xlabel(\"Date\")\n",
        " plt.ylabel(\"Amount\")\n",
        " plt.title(\"Monthly Customer Sales\")\n",
        " plt.show()"
      ],
      "metadata": {
        "colab": {
          "base_uri": "https://localhost:8080/",
          "height": 333
        },
        "id": "iWZyhOV7RXkb",
        "outputId": "a45a7fee-6012-4915-8719-d7dd1789072d"
      },
      "execution_count": 93,
      "outputs": [
        {
          "output_type": "display_data",
          "data": {
            "text/plain": [
              "<Figure size 500x300 with 1 Axes>"
            ],
            "image/png": "[encoded data removed]"
          },
          "metadata": {}
        }
      ]
    }
  ]
}